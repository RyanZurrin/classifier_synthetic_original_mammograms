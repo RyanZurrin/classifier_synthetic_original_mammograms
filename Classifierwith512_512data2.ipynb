{
  "nbformat": 4,
  "nbformat_minor": 0,
  "metadata": {
    "colab": {
      "provenance": [],
      "mount_file_id": "1vIXnBWNQvC6V1h8TY7aOLw9IIgxkYXhS",
      "authorship_tag": "ABX9TyNL8RbpsedPhMABpTfKnl/R",
      "include_colab_link": true
    },
    "kernelspec": {
      "name": "python3",
      "display_name": "Python 3"
    },
    "language_info": {
      "name": "python"
    }
  },
  "cells": [
    {
      "cell_type": "markdown",
      "metadata": {
        "id": "view-in-github",
        "colab_type": "text"
      },
      "source": [
        "<a href=\"https://colab.research.google.com/github/VidhyaSree-N/classifier_synthetic_original_mammograms/blob/main/Classifierwith512_512data2.ipynb\" target=\"_parent\"><img src=\"https://colab.research.google.com/assets/colab-badge.svg\" alt=\"Open In Colab\"/></a>"
      ]
    },
    {
      "cell_type": "code",
      "execution_count": 1,
      "metadata": {
        "colab": {
          "base_uri": "https://localhost:8080/"
        },
        "id": "0ZBGbfwIPIWk",
        "outputId": "6f8b94a8-8d0e-403e-fe58-9e62f25bcd60"
      },
      "outputs": [
        {
          "output_type": "stream",
          "name": "stdout",
          "text": [
            "Populating the interactive namespace from numpy and matplotlib\n"
          ]
        }
      ],
      "source": [
        "import keras\n",
        "%pylab inline\n",
        "import numpy as np\n",
        "import os\n",
        "import cv2"
      ]
    },
    {
      "cell_type": "code",
      "source": [
        "#\n",
        "# 1. Load Data\n",
        "#\n",
        "\n",
        "train_image_folder = '/content/drive/MyDrive/512data/train/AI'\n",
        "train_npz_folder = '/content/drive/MyDrive/512data/train/original'\n",
        "\n",
        "test_image_folder = '/content/drive/MyDrive/512data/test/AI'\n",
        "test_npz_folder ='/content/drive/MyDrive/512data/test/original'"
      ],
      "metadata": {
        "id": "xn6lM8ErHmzK"
      },
      "execution_count": 2,
      "outputs": []
    },
    {
      "cell_type": "code",
      "source": [
        "img_height = 512\n",
        "img_width = 512\n",
        "batch_size = 32"
      ],
      "metadata": {
        "id": "boA678Ai70da"
      },
      "execution_count": 3,
      "outputs": []
    },
    {
      "cell_type": "code",
      "source": [
        "def custom_data_generator(image_folder, npz_folder, batch_size, img_height, img_width):\n",
        "  num_images_loaded = 0\n",
        "  while True:\n",
        "        image_files = [f for f in os.listdir(image_folder) if f.endswith('.png')]\n",
        "        npz_files = [f for f in os.listdir(npz_folder) if f.endswith('.npz')]\n",
        "\n",
        "        total_files = min(len(image_files), len(npz_files))\n",
        "        indices = np.arange(total_files)\n",
        "        np.random.shuffle(indices)\n",
        "\n",
        "        for i in range(0, total_files, batch_size):\n",
        "            batch_indices = indices[i:i + batch_size]\n",
        "\n",
        "            batch_images = []\n",
        "            batch_npz = []\n",
        "\n",
        "            for idx in batch_indices:\n",
        "                img_file = os.path.join(image_folder, image_files[idx])\n",
        "                npz_file = os.path.join(npz_folder, npz_files[idx])\n",
        "\n",
        "                image = cv2.imread(img_file, cv2.IMREAD_GRAYSCALE)\n",
        "                image = cv2.resize(image, (img_width, img_height))\n",
        "\n",
        "                with np.load(npz_file, allow_pickle=True) as data:\n",
        "                    npz = data['data']\n",
        "                npz = np.resize(npz, (img_height, img_width))\n",
        "\n",
        "                batch_images.append(image)\n",
        "                batch_npz.append(npz)\n",
        "                num_images_loaded += 1\n",
        "\n",
        "            if len(batch_images) > 0:\n",
        "                print(f\"Loaded {num_images_loaded} images into batch\")\n",
        "                print(f\"Batch Image Shape: {np.array(batch_images).shape}\")\n",
        "                print(f\"Batch NPZ Shape: {np.array(batch_npz).shape}\")\n",
        "                yield (np.array(batch_images), np.array(batch_npz))\n"
      ],
      "metadata": {
        "id": "VwIK0uTB7LAU"
      },
      "execution_count": 11,
      "outputs": []
    },
    {
      "cell_type": "code",
      "source": [
        "# train_generator = custom_data_generator(train_image_folder, train_npz_folder, batch_size, img_height, img_width)"
      ],
      "metadata": {
        "id": "c2vN7fwIH5TU"
      },
      "execution_count": 5,
      "outputs": []
    },
    {
      "cell_type": "code",
      "source": [
        "test_generator = custom_data_generator(test_image_folder,test_npz_folder, batch_size, img_height, img_width)"
      ],
      "metadata": {
        "id": "1mcMp1QCH0Rr"
      },
      "execution_count": 5,
      "outputs": []
    },
    {
      "cell_type": "code",
      "source": [
        "NUMBER_OF_CLASSES = 2"
      ],
      "metadata": {
        "id": "cMIv-ZEHZPKF"
      },
      "execution_count": 6,
      "outputs": []
    },
    {
      "cell_type": "code",
      "source": [
        "model = keras.models.Sequential()\n",
        "model.add(keras.layers.Conv2D(32, kernel_size=(3, 3),\n",
        "                             activation='relu',\n",
        "                             input_shape=(img_height, img_width, 1)))\n",
        "model.add(keras.layers.Conv2D(64, (3, 3), activation='relu'))\n",
        "model.add(keras.layers.MaxPooling2D(pool_size=(2, 2)))\n",
        "model.add(keras.layers.Dropout(0.25))\n",
        "model.add(keras.layers.Flatten())\n",
        "model.add(keras.layers.Dense(128, activation='relu'))\n",
        "model.add(keras.layers.Dropout(0.5))\n",
        "model.add(keras.layers.Dense(NUMBER_OF_CLASSES, activation='softmax'))\n"
      ],
      "metadata": {
        "id": "6lUF5ZA7ZR4P"
      },
      "execution_count": 7,
      "outputs": []
    },
    {
      "cell_type": "code",
      "source": [
        "model.compile(loss=keras.losses.categorical_crossentropy,\n",
        "              optimizer=keras.optimizers.Adadelta(),\n",
        "              metrics=['accuracy'])"
      ],
      "metadata": {
        "id": "brlQGXUUZU3a"
      },
      "execution_count": 8,
      "outputs": []
    },
    {
      "cell_type": "code",
      "source": [
        "# Create the data generators\n",
        "train_generator = custom_data_generator(train_image_folder, train_npz_folder, batch_size, img_height, img_width)\n",
        "\n",
        "try:\n",
        "    model.fit(\n",
        "        train_generator,\n",
        "        epochs=1,\n",
        "        steps_per_epoch=None,\n",
        "        verbose=1\n",
        "    )\n",
        "except Exception as e:\n",
        "    print(\"An error occurred:\", str(e))\n",
        "\n"
      ],
      "metadata": {
        "colab": {
          "base_uri": "https://localhost:8080/"
        },
        "id": "9jXTo0wJZX_c",
        "outputId": "a593cac1-2157-4f35-c16f-4e2fe107ab4f"
      },
      "execution_count": null,
      "outputs": [
        {
          "output_type": "stream",
          "name": "stdout",
          "text": [
            "Loaded 32 images into batch\n",
            "Batch Image Shape: (32, 512, 512)\n",
            "Batch NPZ Shape: (32, 512, 512)\n",
            "Loaded 64 images into batch\n",
            "Batch Image Shape: (32, 512, 512)\n",
            "Batch NPZ Shape: (32, 512, 512)\n",
            "Loaded 96 images into batch\n",
            "Batch Image Shape: (32, 512, 512)\n",
            "Batch NPZ Shape: (32, 512, 512)\n"
          ]
        }
      ]
    }
  ]
}