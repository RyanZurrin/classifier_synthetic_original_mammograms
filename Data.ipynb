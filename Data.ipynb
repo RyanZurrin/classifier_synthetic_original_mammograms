{
  "nbformat": 4,
  "nbformat_minor": 0,
  "metadata": {
    "colab": {
      "provenance": [],
      "mount_file_id": "1bQHtlMVvRUZra00DAfZBNXGUmeZl_fBd",
      "authorship_tag": "ABX9TyPO4wXpA2aO+J6SHhulbpAo",
      "include_colab_link": true
    },
    "kernelspec": {
      "name": "python3",
      "display_name": "Python 3"
    },
    "language_info": {
      "name": "python"
    }
  },
  "cells": [
    {
      "cell_type": "markdown",
      "metadata": {
        "id": "view-in-github",
        "colab_type": "text"
      },
      "source": [
        "<a href=\"https://colab.research.google.com/github/VidhyaSree-N/classifier_synthetic_original_mammograms/blob/main/Data.ipynb\" target=\"_parent\"><img src=\"https://colab.research.google.com/assets/colab-badge.svg\" alt=\"Open In Colab\"/></a>"
      ]
    },
    {
      "cell_type": "code",
      "source": [
        "import os\n",
        "import cv2\n",
        "import numpy as np"
      ],
      "metadata": {
        "id": "sl3RaE6yuOIX"
      },
      "execution_count": 29,
      "outputs": []
    },
    {
      "cell_type": "code",
      "execution_count": 30,
      "metadata": {
        "id": "SGbGaIwgt-Ry"
      },
      "outputs": [],
      "source": [
        "#\n",
        "# 1. Load Data\n",
        "#\n",
        "\n",
        "train_image_folder = '/content/drive/MyDrive/512data/train/AI'\n",
        "train_npz_folder = '/content/drive/MyDrive/512data/train/original'\n",
        "\n",
        "test_image_folder = '/content/drive/MyDrive/512data/test/AI'\n",
        "test_npz_folder ='/content/drive/MyDrive/512data/test/original'\n",
        "\n",
        "img_height = 512\n",
        "img_width = 512"
      ]
    },
    {
      "cell_type": "code",
      "source": [
        "image_train_files = [f for f in os.listdir(train_image_folder) if f.endswith('.png')]\n",
        "npz_train_files = [f for f in os.listdir(train_npz_folder) if f.endswith('.npz')]\n",
        "\n",
        "image_train_data = []\n",
        "npz_train_data = []\n",
        "\n",
        "\n",
        "for img_file, npz_file in zip(image_files, npz_files):\n",
        "    img_file_path = os.path.join(train_image_folder, img_file)\n",
        "    npz_file_path = os.path.join(train_npz_folder, npz_file)\n",
        "\n",
        "    image = cv2.imread(img_file_path, cv2.IMREAD_GRAYSCALE)\n",
        "    image_train_data.append(image)\n",
        "\n",
        "    with np.load(npz_file_path, allow_pickle=True) as data:\n",
        "        npz = data['data']\n",
        "    npz = np.resize(npz, (img_height, img_width))\n",
        "    npz_train_data.append(npz)\n",
        "\n",
        "image_train_length = len(image_train_data)\n",
        "npz_train_length = len(npz_train_data)\n",
        "\n",
        "print(f\"Image Train Data Length: {image_train_length}\")\n",
        "print(f\"NPZ Train Data Length: {npz_train_length}\")\n",
        "\n",
        "\n",
        "\n"
      ],
      "metadata": {
        "colab": {
          "base_uri": "https://localhost:8080/"
        },
        "id": "or9rozwWvCBR",
        "outputId": "24165b21-3a44-43c0-def0-369f72d51485"
      },
      "execution_count": 31,
      "outputs": [
        {
          "output_type": "stream",
          "name": "stdout",
          "text": [
            "Image Train Data Length: 100\n",
            "NPZ Train Data Length: 100\n"
          ]
        }
      ]
    },
    {
      "cell_type": "code",
      "source": [
        "image_test_files = [f for f in os.listdir(test_image_folder) if f.endswith('.png')]\n",
        "npz_test_files = [f for f in os.listdir(test_npz_folder) if f.endswith('.npz')]\n",
        "\n",
        "image_test_data = []\n",
        "npz_test_data = []\n",
        "num_test_files_loaded = 0\n",
        "\n",
        "for img_file, npz_file in zip(image_files, npz_files):\n",
        "    img_file_path = os.path.join(train_image_folder, img_file)\n",
        "    npz_file_path = os.path.join(train_npz_folder, npz_file)\n",
        "\n",
        "    image = cv2.imread(img_file_path, cv2.IMREAD_GRAYSCALE)\n",
        "    image_test_data.append(image)\n",
        "\n",
        "    with np.load(npz_file_path, allow_pickle=True) as data:\n",
        "        npz = data['data']\n",
        "    npz = np.resize(npz, (img_height, img_width))\n",
        "    npz_test_data.append(npz)\n",
        "    num_test_files_loaded += 1\n",
        "\n",
        "image_test_length = len(image_test_data)\n",
        "npz_test_length = len(npz_test_data)\n",
        "\n",
        "print(f\"Image Test Data Length: {image_test_length}\")\n",
        "print(f\"NPZ Test Data Length: {npz_test_length}\")"
      ],
      "metadata": {
        "colab": {
          "base_uri": "https://localhost:8080/"
        },
        "id": "NhpSBy4MxjT5",
        "outputId": "776deba9-e04a-4f63-ed82-442f25dcd2fe"
      },
      "execution_count": 33,
      "outputs": [
        {
          "output_type": "stream",
          "name": "stdout",
          "text": [
            "Image Test Data Length: 100\n",
            "NPZ Test Data Length: 100\n"
          ]
        }
      ]
    }
  ]
}